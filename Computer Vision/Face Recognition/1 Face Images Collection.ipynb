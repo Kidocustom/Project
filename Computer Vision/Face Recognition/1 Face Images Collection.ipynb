{
 "cells": [
  {
   "cell_type": "code",
   "execution_count": 1,
   "id": "c6cf902f",
   "metadata": {
    "collapsed": true
   },
   "outputs": [
    {
     "name": "stdout",
     "output_type": "stream",
     "text": [
      "Requirement already satisfied: opencv-python in c:\\users\\nilay\\anaconda3\\lib\\site-packages (4.7.0.72)\n",
      "Requirement already satisfied: numpy>=1.21.2 in c:\\users\\nilay\\anaconda3\\lib\\site-packages (from opencv-python) (1.23.5)\n"
     ]
    },
    {
     "name": "stderr",
     "output_type": "stream",
     "text": [
      "WARNING: Ignoring invalid distribution -yspark (c:\\users\\nilay\\anaconda3\\lib\\site-packages)\n",
      "WARNING: Ignoring invalid distribution -rotobuf (c:\\users\\nilay\\anaconda3\\lib\\site-packages)\n",
      "WARNING: Ignoring invalid distribution -yspark (c:\\users\\nilay\\anaconda3\\lib\\site-packages)\n",
      "WARNING: Ignoring invalid distribution -rotobuf (c:\\users\\nilay\\anaconda3\\lib\\site-packages)\n",
      "WARNING: Ignoring invalid distribution -yspark (c:\\users\\nilay\\anaconda3\\lib\\site-packages)\n",
      "WARNING: Ignoring invalid distribution -rotobuf (c:\\users\\nilay\\anaconda3\\lib\\site-packages)\n",
      "WARNING: Ignoring invalid distribution -yspark (c:\\users\\nilay\\anaconda3\\lib\\site-packages)\n",
      "WARNING: Ignoring invalid distribution -rotobuf (c:\\users\\nilay\\anaconda3\\lib\\site-packages)\n",
      "WARNING: Ignoring invalid distribution -yspark (c:\\users\\nilay\\anaconda3\\lib\\site-packages)\n",
      "WARNING: Ignoring invalid distribution -rotobuf (c:\\users\\nilay\\anaconda3\\lib\\site-packages)\n",
      "WARNING: Ignoring invalid distribution -yspark (c:\\users\\nilay\\anaconda3\\lib\\site-packages)\n",
      "WARNING: Ignoring invalid distribution -rotobuf (c:\\users\\nilay\\anaconda3\\lib\\site-packages)\n"
     ]
    }
   ],
   "source": [
    "!pip install opencv-python"
   ]
  },
  {
   "cell_type": "code",
   "execution_count": 1,
   "id": "fe5dfb8f",
   "metadata": {},
   "outputs": [],
   "source": [
    "import cv2"
   ]
  },
  {
   "cell_type": "code",
   "execution_count": 2,
   "id": "50d90fb5",
   "metadata": {},
   "outputs": [],
   "source": [
    "#image counter\n",
    "counter=0\n",
    "#AI model for face detection in an image/video\n",
    "face_detector=cv2.CascadeClassifier(\"haarcascade_frontalface_default.xml\")"
   ]
  },
  {
   "cell_type": "code",
   "execution_count": 3,
   "id": "088fd0c0",
   "metadata": {},
   "outputs": [
    {
     "data": {
      "text/plain": [
       "< cv2.CascadeClassifier 0000015F96783510>"
      ]
     },
     "execution_count": 3,
     "metadata": {},
     "output_type": "execute_result"
    }
   ],
   "source": [
    "face_detector"
   ]
  },
  {
   "cell_type": "code",
   "execution_count": 4,
   "id": "8c694c1d",
   "metadata": {},
   "outputs": [
    {
     "name": "stdout",
     "output_type": "stream",
     "text": [
      "enter the name of the person richa\n"
     ]
    }
   ],
   "source": [
    "person_name=input(\"enter the name of the person \")"
   ]
  },
  {
   "cell_type": "code",
   "execution_count": 5,
   "id": "05cef51e",
   "metadata": {},
   "outputs": [
    {
     "data": {
      "text/plain": [
       "'richa'"
      ]
     },
     "execution_count": 5,
     "metadata": {},
     "output_type": "execute_result"
    }
   ],
   "source": [
    "person_name"
   ]
  },
  {
   "cell_type": "code",
   "execution_count": null,
   "id": "b366489d",
   "metadata": {},
   "outputs": [
    {
     "name": "stderr",
     "output_type": "stream",
     "text": [
      "<>:6: SyntaxWarning: \"is\" with a literal. Did you mean \"==\"?\n",
      "<>:6: SyntaxWarning: \"is\" with a literal. Did you mean \"==\"?\n",
      "C:\\Users\\Prashant\\AppData\\Local\\Temp\\ipykernel_4228\\2018002361.py:6: SyntaxWarning: \"is\" with a literal. Did you mean \"==\"?\n",
      "  if face_portion is ():\n"
     ]
    }
   ],
   "source": [
    "while True:\n",
    "    cap=cv2.VideoCapture(0)\n",
    "    success,image=cap.read()\n",
    "    face_portion=face_detector.detectMultiScale(image)\n",
    "    \n",
    "    if face_portion is ():\n",
    "        print(\"Face is not found\")\n",
    "        print(\"success-\",success)\n",
    "        \n",
    "    else:\n",
    "        #print(face_portion)\n",
    "        for (x,y,w,h) in face_portion:\n",
    "            x=x-30 \n",
    "            y=y-30\n",
    "            cropped_image=image[y:y+h+30,x:x+w+30]\n",
    "        \n",
    "        \n",
    "        counter=counter+1\n",
    "        #print(counter)\n",
    "        \n",
    "        face_image=cv2.resize(cropped_image,(400,400))\n",
    "        file_name='./Images/'+person_name+\"-\"+str(counter)+'.jpg'\n",
    "        \n",
    "        cv2.imwrite(file_name,cropped_image)\n",
    "            \n",
    "        cv2.putText(image, \n",
    "                    str(counter), \n",
    "                    (150, 150), \n",
    "                    cv2.FONT_HERSHEY_COMPLEX, \n",
    "                    1,\n",
    "                    (0,255,0), 2)\n",
    "        cv2.rectangle(image, (x, y), (x+w+30, y+h+30), (0, 255, 0), 2)\n",
    "        cv2.imshow(\"Image Window\",image)\n",
    "        \n",
    "    \n",
    "    if cv2.waitKey(100)==ord('q') or counter==100:\n",
    "        break\n",
    "cap.release()\n",
    "cv2.destroyAllWindows()"
   ]
  },
  {
   "cell_type": "code",
   "execution_count": 6,
   "id": "3c5d66e9",
   "metadata": {},
   "outputs": [],
   "source": []
  },
  {
   "cell_type": "code",
   "execution_count": null,
   "id": "1a52633c",
   "metadata": {},
   "outputs": [],
   "source": []
  }
 ],
 "metadata": {
  "kernelspec": {
   "display_name": "Python 3 (ipykernel)",
   "language": "python",
   "name": "python3"
  },
  "language_info": {
   "codemirror_mode": {
    "name": "ipython",
    "version": 3
   },
   "file_extension": ".py",
   "mimetype": "text/x-python",
   "name": "python",
   "nbconvert_exporter": "python",
   "pygments_lexer": "ipython3",
   "version": "3.10.9"
  }
 },
 "nbformat": 4,
 "nbformat_minor": 5
}
