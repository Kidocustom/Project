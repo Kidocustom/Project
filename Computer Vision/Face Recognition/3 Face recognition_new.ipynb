{
 "cells": [
  {
   "cell_type": "code",
   "execution_count": 1,
   "id": "09636755",
   "metadata": {},
   "outputs": [],
   "source": [
    "# Importing the libraries\n",
    "from PIL import Image\n",
    "import random\n",
    "import cv2\n",
    "from keras.models import load_model\n",
    "import numpy as np"
   ]
  },
  {
   "cell_type": "code",
   "execution_count": 2,
   "id": "101f0bdc",
   "metadata": {},
   "outputs": [],
   "source": [
    "from keras.preprocessing import image\n",
    "model = load_model('vgg16_fr.h5')\n",
    "\n",
    "# Loading the cascades\n",
    "face_detector = cv2.CascadeClassifier('haarcascade_frontalface_default.xml')\n"
   ]
  },
  {
   "cell_type": "code",
   "execution_count": 3,
   "id": "1ac0a854",
   "metadata": {},
   "outputs": [
    {
     "name": "stderr",
     "output_type": "stream",
     "text": [
      "<>:4: SyntaxWarning: \"is\" with a literal. Did you mean \"==\"?\n",
      "<>:4: SyntaxWarning: \"is\" with a literal. Did you mean \"==\"?\n",
      "C:\\Users\\Prashant\\AppData\\Local\\Temp\\ipykernel_11908\\558592261.py:4: SyntaxWarning: \"is\" with a literal. Did you mean \"==\"?\n",
      "  if face_portion is ():\n"
     ]
    },
    {
     "name": "stdout",
     "output_type": "stream",
     "text": [
      "1/1 [==============================] - 1s 1s/step\n",
      "[[1.000000e+00 1.559333e-18]]\n"
     ]
    }
   ],
   "source": [
    "test_image = cv2.imread('C:\\\\Users\\\\Prashant\\\\Downloads\\\\Computer Vision\\\\Face Recognition\\\\Datasets\\\\Test\\\\nilay\\\\nilay-10.jpg')\n",
    "face_portion=face_detector.detectMultiScale(test_image)\n",
    "    \n",
    "if face_portion is ():\n",
    "    print(\"Face is not found\")\n",
    "    print(\"success-\",success)\n",
    "        \n",
    "else:\n",
    "    #print(face_portion)\n",
    "    for (x,y,w,h) in face_portion:\n",
    "        x=x-30 \n",
    "        y=y-30\n",
    "        cropped_image=test_image[y:y+h+30,x:x+w+30]\n",
    "    if type(cropped_image) is np.ndarray:\n",
    "        cropped_image = cv2.resize(cropped_image, (224, 224))\n",
    "        im = Image.fromarray(cropped_image, 'RGB')\n",
    "        #Resizing into 224x224 because we trained the model with this image size.\n",
    "        img_array = np.array(im)\n",
    "        #Our keras model used a 4D tensor, (images x height x width x channel)\n",
    "        #So changing dimension 224x224x3 into 1x224x224x3 \n",
    "        img_array = np.expand_dims(img_array, axis=0)\n",
    "        pred = model.predict(img_array)\n",
    "        print(pred)\n",
    "\n",
    "            \n",
    "            \n",
    "        if(pred[0][0]>0.7):\n",
    "            name='Nilay'\n",
    "        elif(pred[0][1]>0.7):\n",
    "            name='Trevor'\n",
    "        else:\n",
    "            name=\"None matching\"\n",
    "    "
   ]
  },
  {
   "cell_type": "code",
   "execution_count": 4,
   "id": "c8405e3f",
   "metadata": {},
   "outputs": [
    {
     "name": "stdout",
     "output_type": "stream",
     "text": [
      "Nilay\n"
     ]
    }
   ],
   "source": [
    "print(name)"
   ]
  }
 ],
 "metadata": {
  "kernelspec": {
   "display_name": "Python 3 (ipykernel)",
   "language": "python",
   "name": "python3"
  },
  "language_info": {
   "codemirror_mode": {
    "name": "ipython",
    "version": 3
   },
   "file_extension": ".py",
   "mimetype": "text/x-python",
   "name": "python",
   "nbconvert_exporter": "python",
   "pygments_lexer": "ipython3",
   "version": "3.11.4"
  }
 },
 "nbformat": 4,
 "nbformat_minor": 5
}
